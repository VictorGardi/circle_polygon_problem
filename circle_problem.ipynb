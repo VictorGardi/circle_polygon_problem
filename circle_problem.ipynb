{
 "metadata": {
  "language_info": {
   "codemirror_mode": {
    "name": "ipython",
    "version": 3
   },
   "file_extension": ".py",
   "mimetype": "text/x-python",
   "name": "python",
   "nbconvert_exporter": "python",
   "pygments_lexer": "ipython3",
   "version": "3.8.11"
  },
  "orig_nbformat": 4,
  "kernelspec": {
   "name": "python3",
   "display_name": "Python 3.8.11 64-bit ('venv': venv)"
  },
  "interpreter": {
   "hash": "a934ff69e888313a8f1ca7ac2f9574130fa86bdb8ea01f906b9abd7a2d86b7ee"
  }
 },
 "nbformat": 4,
 "nbformat_minor": 2,
 "cells": [
  {
   "cell_type": "code",
   "execution_count": 98,
   "metadata": {},
   "outputs": [
    {
     "output_type": "stream",
     "name": "stdout",
     "text": [
      "Probability of origo lying inside triangle is 0.396\n",
      "Probability of origo lying inside triangle is 0.397\n",
      "Probability of origo lying inside triangle is 0.395\n"
     ]
    }
   ],
   "source": [
    "import math\n",
    "from math import pi\n",
    "import matplotlib.pyplot as plt\n",
    "import random\n",
    "import itertools\n",
    "from shapely.geometry import Polygon, Point\n",
    "\n",
    "class Circle:\n",
    "    def __init__(self, radius=1, n_points=10000):\n",
    "        self.circle = [(math.cos(2*pi/n_points*point)*radius,math.sin(2*pi/n_points*point)*radius) for point in range(0,n_points+1)]    \n",
    "\n",
    "    def draw_circle(self):\n",
    "        y = [i[1] for i in c.circle]\n",
    "        x = [i[0] for i in c.circle]\n",
    "        plt.scatter(x, y)\n",
    "        plt.scatter(0,0)\n",
    "\n",
    "    def draw_chosen_points(self):\n",
    "        y_points = [i[1] for i in self.points]\n",
    "        x_points = [i[0] for i in self.points]\n",
    "        plt.scatter(x_points, y_points)\n",
    "\n",
    "    def draw_lines_between_points(self):\n",
    "        y_points = [i[1] for i in self.points]\n",
    "        x_points = [i[0] for i in self.points]\n",
    "        x_line_points = x_points\n",
    "        x_line_points.append(x_line_points[0])\n",
    "        y_line_points = y_points\n",
    "        y_line_points.append(y_line_points[0])\n",
    "        plt.plot(x_line_points, y_line_points)\n",
    "    \n",
    "    def draw(self):\n",
    "        self.draw_circle()\n",
    "        self.draw_chosen_points()\n",
    "        self.draw_lines_between_points()\n",
    "        plt.show()\n",
    "    \n",
    "    def get_random_points_from_circle(self, n_points=5):\n",
    "        points = list()\n",
    "        while len(points) < n_points:\n",
    "            point = random.choice(self.circle)\n",
    "            if point not in points:\n",
    "                points.append(point)\n",
    "        self.points = points\n",
    "        return points\n",
    "\n",
    "    def check_if_point_is_contained_in_chosen_points(self, point=(0,0)):\n",
    "        polygon = Polygon(self.points)\n",
    "        point_of_interest = Point(point)\n",
    "        return polygon.contains(point_of_interest)\n",
    "\n",
    "n_runs = 100000\n",
    "for run in range(3):\n",
    "    count = 0\n",
    "    c = Circle()\n",
    "    for i in range(n_runs):\n",
    "        points = c.get_random_points_from_circle()\n",
    "        #c.draw()\n",
    "        result = c.check_if_point_is_contained_in_chosen_points()\n",
    "        if result:\n",
    "            count+= 1\n",
    "\n",
    "    print('Probability of origo lying inside triangle is {}'.format(round(count/n_runs, 3)))\n",
    "    \n",
    "\n"
   ]
  },
  {
   "cell_type": "code",
   "execution_count": 95,
   "metadata": {},
   "outputs": [],
   "source": []
  },
  {
   "cell_type": "code",
   "execution_count": null,
   "metadata": {},
   "outputs": [],
   "source": []
  }
 ]
}